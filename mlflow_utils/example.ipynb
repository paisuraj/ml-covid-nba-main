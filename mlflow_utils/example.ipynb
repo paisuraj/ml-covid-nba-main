{
 "cells": [
  {
   "cell_type": "code",
   "execution_count": null,
   "metadata": {
    "collapsed": true
   },
   "outputs": [],
   "source": [
    "from mlflow_utils import setup, test_data, team_train_test_split, atlantic_division\n",
    "from mlflow_utils.metrics import classification, regression\n",
    "import mlflow\n",
    "# import model\n",
    "from sklearn.model_selection import train_test_split, GridSearchCV, RandomizedSearchCV\n",
    "import pandas as pd\n",
    "import numpy as np\n",
    "\n",
    "setup() # leave blank, if doing covid or win prob then pass 'covid' or 'win'"
   ]
  },
  {
   "cell_type": "code",
   "execution_count": null,
   "outputs": [],
   "source": [
    "model_name = \"\" # place name of model here eg xgboost\n",
    "problem_type = \"\" # place one of [regression, classification, ts] here"
   ],
   "metadata": {
    "collapsed": false,
    "pycharm": {
     "name": "#%%\n"
    }
   }
  },
  {
   "cell_type": "code",
   "execution_count": null,
   "outputs": [],
   "source": [
    "data = test_data(data=problem_type) # returns real dataset"
   ],
   "metadata": {
    "collapsed": false,
    "pycharm": {
     "name": "#%%\n"
    }
   }
  },
  {
   "cell_type": "code",
   "execution_count": null,
   "outputs": [],
   "source": [
    "# split data\n",
    "team = ''       # only needed if doing regression\n",
    "if problem_type == 'regression':\n",
    "    opponents = [t for t in atlantic_division if t != team]\n",
    "    x_train, x_test, y_train, y_test = team_train_test_split(team=team, opponents=opponents, data=data)\n",
    "else:\n",
    "    x_train, x_test, y_train, y_test = train_test_split(data.data.drop([data.target], axis=1), data.data[data.target], test_size=.25)"
   ],
   "metadata": {
    "collapsed": false,
    "pycharm": {
     "name": "#%%\n"
    }
   }
  },
  {
   "cell_type": "code",
   "execution_count": null,
   "outputs": [],
   "source": [
    "mlflow.autolog()\n",
    "# initialize model\n",
    "\n",
    "\n",
    "with mlflow.start_run() as run:\n",
    "    mlflow.tracking.MlflowClient().set_tag(run_id=run.info.run_id, key=model_name, value=problem_type)\n",
    "    # train model\n",
    "\n",
    "    # run classification/regression metrics to log results\n"
   ],
   "metadata": {
    "collapsed": false,
    "pycharm": {
     "name": "#%%\n"
    }
   }
  }
 ],
 "metadata": {
  "kernelspec": {
   "display_name": "Python 3",
   "language": "python",
   "name": "python3"
  },
  "language_info": {
   "codemirror_mode": {
    "name": "ipython",
    "version": 2
   },
   "file_extension": ".py",
   "mimetype": "text/x-python",
   "name": "python",
   "nbconvert_exporter": "python",
   "pygments_lexer": "ipython2",
   "version": "2.7.6"
  }
 },
 "nbformat": 4,
 "nbformat_minor": 0
}