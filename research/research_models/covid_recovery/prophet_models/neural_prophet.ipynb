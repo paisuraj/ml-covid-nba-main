{
 "cells": [
  {
   "cell_type": "code",
   "execution_count": 1,
   "metadata": {
    "pycharm": {
     "name": "#%%\n"
    }
   },
   "outputs": [],
   "source": [
    "from datetime import datetime\n",
    "import pandas as pd\n",
    "from neuralprophet import NeuralProphet\n",
    "import matplotlib as plt\n",
    "from matplotlib import pyplot\n",
    "import sys\n",
    "from sklearn.metrics import mean_squared_error, accuracy_score\n",
    "from sklearn.metrics import mean_squared_error, r2_score, mean_absolute_error\n",
    "from pandas import to_datetime\n",
    "import warnings\n",
    "warnings.filterwarnings(\"ignore\")\n",
    "#sys.path.insert(0, '/Users/koushikchennakesavan/Documents/EE364D/ml-covid-nba')\n",
    "#may need to fix this with your FP to ml-covid-nba\n",
    "from data.injury_labeller import injuryScore"
   ]
  },
  {
   "cell_type": "code",
   "execution_count": 97,
   "metadata": {
    "pycharm": {
     "name": "#%%\n"
    }
   },
   "outputs": [],
   "source": [
    "scoreGen = injuryScore.injuryScore(\"embiijo01\", 2019)\n",
    "df = scoreGen.getInjuryScore()\n",
    "df = df.dropna()\n",
    "df = df[['Date', 'Injury and Fatigue Score']]\n",
    "\n",
    "scoreGen = injuryScore.injuryScore(\"embiijo01\", 2020)\n",
    "df1 = scoreGen.getInjuryScore()\n",
    "df1 = df1.dropna()\n",
    "df1 = df1[['Date', 'Injury and Fatigue Score']]\n",
    "df1 = df1[df1['Date'] < '2020-08-01']\n",
    "\n",
    "scoreGen = injuryScore.injuryScore(\"embiijo01\", 2021)\n",
    "df2 = scoreGen.getInjuryScore()\n",
    "df2 = df2.dropna()\n",
    "df2 = df2[['Date', 'Injury and Fatigue Score']]\n",
    "\n",
    "df = pd.concat([df, df1, df2])"
   ]
  },
  {
   "cell_type": "code",
   "execution_count": 98,
   "metadata": {
    "pycharm": {
     "name": "#%%\n"
    }
   },
   "outputs": [],
   "source": [
    "scoreGen = injuryScore.injuryScore(\"embiijo01\", 2022)\n",
    "test = scoreGen.getInjuryScore()\n",
    "test = test.dropna()\n",
    "test = test[['Date', 'Injury and Fatigue Score']]\n",
    "test.columns = ['ds', 'y']\n",
    "df.loc[len(df)] = list(test.loc[0].values)"
   ]
  },
  {
   "cell_type": "code",
   "execution_count": 99,
   "outputs": [],
   "source": [
    "df.columns = ['ds', 'y']\n",
    "games = df.pop('ds')\n",
    "df.index = pd.to_datetime(games)\n",
    "df = df.resample('D').interpolate()"
   ],
   "metadata": {
    "collapsed": false,
    "pycharm": {
     "name": "#%%\n"
    }
   }
  },
  {
   "cell_type": "code",
   "execution_count": 101,
   "outputs": [],
   "source": [
    "games = pd.DataFrame({\n",
    "    'event': 'games',\n",
    "    'ds': games.values,\n",
    "})"
   ],
   "metadata": {
    "collapsed": false,
    "pycharm": {
     "name": "#%%\n"
    }
   }
  },
  {
   "cell_type": "code",
   "execution_count": 105,
   "outputs": [],
   "source": [
    "future_games = pd.DataFrame({\n",
    "    'event': 'games',\n",
    "    'ds': test.ds,\n",
    "})"
   ],
   "metadata": {
    "collapsed": false,
    "pycharm": {
     "name": "#%%\n"
    }
   }
  },
  {
   "cell_type": "code",
   "execution_count": 131,
   "metadata": {
    "pycharm": {
     "name": "#%%\n"
    }
   },
   "outputs": [
    {
     "name": "stderr",
     "output_type": "stream",
     "text": [
      "INFO - (NP.config.__post_init__) - Note: Trend changepoint regularization is experimental.\n",
      "INFO - (NP.df_utils._infer_frequency) - Major frequency D corresponds to 99.909% of the data.\n",
      "INFO - (NP.df_utils._infer_frequency) - Dataframe freq automatically defined as D\n",
      "INFO - (NP.config.init_data_params) - Setting normalization to global as only one dataframe provided for training.\n",
      "INFO - (NP.utils.set_auto_seasonalities) - Disabling daily seasonality. Run NeuralProphet with daily_seasonality=True to override this.\n",
      "INFO - (NP.config.set_auto_batch_epoch) - Auto-set batch_size to 16\n",
      "INFO - (NP.config.set_auto_batch_epoch) - Auto-set epochs to 135\n"
     ]
    },
    {
     "data": {
      "text/plain": "  0%|          | 0/246 [00:00<?, ?it/s]",
      "application/vnd.jupyter.widget-view+json": {
       "version_major": 2,
       "version_minor": 0,
       "model_id": "41c644b071a34a0eb7ae4ca00dbf3591"
      }
     },
     "metadata": {},
     "output_type": "display_data"
    },
    {
     "name": "stderr",
     "output_type": "stream",
     "text": [
      "INFO - (NP.utils_torch.lr_range_test) - lr-range-test results: steep: 2.87E+00, min: 1.48E-01\n"
     ]
    },
    {
     "data": {
      "text/plain": "  0%|          | 0/246 [00:00<?, ?it/s]",
      "application/vnd.jupyter.widget-view+json": {
       "version_major": 2,
       "version_minor": 0,
       "model_id": "5cf0365d3b6244e48f7166b0f77780c0"
      }
     },
     "metadata": {},
     "output_type": "display_data"
    },
    {
     "name": "stderr",
     "output_type": "stream",
     "text": [
      "INFO - (NP.utils_torch.lr_range_test) - lr-range-test results: steep: 1.88E+00, min: 1.06E-01\n"
     ]
    },
    {
     "data": {
      "text/plain": "  0%|          | 0/246 [00:00<?, ?it/s]",
      "application/vnd.jupyter.widget-view+json": {
       "version_major": 2,
       "version_minor": 0,
       "model_id": "100d76f11d3141a1b114d8df5f5861f7"
      }
     },
     "metadata": {},
     "output_type": "display_data"
    },
    {
     "name": "stderr",
     "output_type": "stream",
     "text": [
      "INFO - (NP.utils_torch.lr_range_test) - lr-range-test results: steep: 1.88E+00, min: 1.06E-01\n",
      "INFO - (NP.forecaster._init_train_loader) - lr-range-test selected learning rate: 2.16E+00\n",
      "Epoch[135/135]: 100%|██████████| 135/135 [00:19<00:00,  6.93it/s, MSELoss=0.0276, MAE=0.0367, RMSE=0.0478, RegLoss=4.56e-6] \n",
      "INFO - (NP.df_utils._infer_frequency) - Major frequency D corresponds to 99.909% of the data.\n",
      "INFO - (NP.df_utils._infer_frequency) - Defined frequency is equal to major frequency - D\n",
      "INFO - (NP.df_utils._infer_frequency) - Major frequency D corresponds to 99.6% of the data.\n",
      "INFO - (NP.df_utils._infer_frequency) - Defined frequency is equal to major frequency - D\n",
      "INFO - (NP.df_utils._infer_frequency) - Major frequency D corresponds to 99.6% of the data.\n",
      "INFO - (NP.df_utils._infer_frequency) - Defined frequency is equal to major frequency - D\n"
     ]
    }
   ],
   "source": [
    "df['ds']= df.index\n",
    "model = NeuralProphet(num_hidden_layers=1,\n",
    "                      d_hidden=150,\n",
    "                      n_forecasts=100,\n",
    "                      n_lags=150,\n",
    "                      changepoints_range=.9,\n",
    "                      trend_reg=50,\n",
    "                      seasonality_mode='multiplicative',\n",
    "                      loss_func='MSE')\n",
    "model.add_events([\"games\"])\n",
    "history_df = model.create_df_with_events(df, games)\n",
    "model.fit(history_df)\n",
    "future_days = model.make_future_dataframe(df=history_df, events_df=pd.concat([games, future_games]), periods=100)\n",
    "future_predict = model.predict(future_days)\n",
    "future_predict = future_predict.fillna(method='bfill', axis=1)\n",
    "#model.plot(future_predict, uncertainty=True)"
   ]
  },
  {
   "cell_type": "code",
   "execution_count": 132,
   "metadata": {
    "pycharm": {
     "name": "#%%\n"
    }
   },
   "outputs": [
    {
     "name": "stdout",
     "output_type": "stream",
     "text": [
      "0.0017666569491188602\n",
      "0.5394263373873377\n",
      "0.03191206796749218\n"
     ]
    }
   ],
   "source": [
    "future_predict = future_predict[['ds', 'y']]\n",
    "future_predict = future_predict[future_predict['ds'].isin(test['ds'])]\n",
    "#print(test)\n",
    "#print(future_predict)\n",
    "print(mean_squared_error(test['y'][:len(future_predict)], future_predict['y'], squared=True))\n",
    "print(r2_score(test['y'][:len(future_predict)], future_predict['y']))\n",
    "print(mean_absolute_error(test['y'][:len(future_predict)], future_predict['y']))"
   ]
  },
  {
   "cell_type": "code",
   "execution_count": 133,
   "outputs": [
    {
     "data": {
      "text/plain": "<Figure size 432x288 with 1 Axes>",
      "image/png": "[encoded data removed]"
     },
     "metadata": {
      "needs_background": "light"
     },
     "output_type": "display_data"
    }
   ],
   "source": [
    "pyplot.plot(test['y'][:len(future_predict)].values, label='Actual')\n",
    "pyplot.plot(future_predict['y'].values, label='Predicted')\n",
    "pyplot.legend()\n",
    "pyplot.show()"
   ],
   "metadata": {
    "collapsed": false,
    "pycharm": {
     "name": "#%%\n"
    }
   }
  },
  {
   "cell_type": "code",
   "execution_count": null,
   "outputs": [],
   "source": [],
   "metadata": {
    "collapsed": false,
    "pycharm": {
     "name": "#%%\n"
    }
   }
  }
 ],
 "metadata": {
  "interpreter": {
   "hash": "b2efbdbc46fe6051023ac624dabb0e6035dbaa6912f0ffca836eef0c10c982b7"
  },
  "kernelspec": {
   "display_name": "Python 3.8.8 ('base')",
   "language": "python",
   "name": "python3"
  },
  "language_info": {
   "codemirror_mode": {
    "name": "ipython",
    "version": 3
   },
   "file_extension": ".py",
   "mimetype": "text/x-python",
   "name": "python",
   "nbconvert_exporter": "python",
   "pygments_lexer": "ipython3",
   "version": "3.8.13"
  },
  "orig_nbformat": 4
 },
 "nbformat": 4,
 "nbformat_minor": 2
}