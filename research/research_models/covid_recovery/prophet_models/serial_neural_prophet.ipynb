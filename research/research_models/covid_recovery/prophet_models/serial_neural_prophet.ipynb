{
 "cells": [
  {
   "cell_type": "code",
   "execution_count": 2,
   "metadata": {},
   "outputs": [],
   "source": [
    "from neuralprophet import NeuralProphet\n",
    "import pandas as pd\n",
    "from pandas import to_datetime\n",
    "from sklearn.metrics import mean_squared_error, r2_score, mean_absolute_error\n",
    "from matplotlib import pyplot\n",
    "import warnings\n",
    "warnings.filterwarnings(\"ignore\")\n",
    "import sys\n",
    "sys.path.insert(2, '/Users/koushikchennakesavan/Documents/EE364D/ml-covid-nba')\n",
    "#may need to fix this with your FP to ml-covid-nba\n",
    "from data.injury_labeller import injuryScore"
   ]
  },
  {
   "cell_type": "code",
   "execution_count": 3,
   "metadata": {},
   "outputs": [],
   "source": [
    "scoreGen = injuryScore.injuryScore(\"embiijo01\", 2020)\n",
    "df = scoreGen.getInjuryScore()"
   ]
  },
  {
   "cell_type": "code",
   "execution_count": 4,
   "metadata": {},
   "outputs": [
    {
     "name": "stderr",
     "output_type": "stream",
     "text": [
      "ERROR - (NP.config.__post_init__) - Invalid trend growth 'Linear'. Set to 'linear'\n",
      "INFO - (NP.df_utils._infer_frequency) - Major frequency 2D corresponds to 56.863% of the data.\n",
      "WARNING - (NP.df_utils._infer_frequency) - Dataframe has multiple frequencies. It will be resampled according to given freq D. Ignore message if actual frequency is any of the following:  SM, BM, CBM, SMS, BMS, CBMS, BQ, BQS, BA, or, BAS.\n",
      "INFO - (NP.config.init_data_params) - Setting normalization to global as only one dataframe provided for training.\n",
      "INFO - (NP.utils.set_auto_seasonalities) - Disabling yearly seasonality. Run NeuralProphet with yearly_seasonality=True to override this.\n",
      "INFO - (NP.utils.set_auto_seasonalities) - Disabling daily seasonality. Run NeuralProphet with daily_seasonality=True to override this.\n",
      "INFO - (NP.config.set_auto_batch_epoch) - Auto-set batch_size to 16\n",
      "INFO - (NP.config.set_auto_batch_epoch) - Auto-set epochs to 855\n"
     ]
    },
    {
     "data": {
      "application/vnd.jupyter.widget-view+json": {
       "model_id": "807a248a063147009fcbd06aa37f325d",
       "version_major": 2,
       "version_minor": 0
      },
      "text/plain": [
       "  0%|          | 0/104 [00:00<?, ?it/s]"
      ]
     },
     "metadata": {},
     "output_type": "display_data"
    },
    {
     "name": "stderr",
     "output_type": "stream",
     "text": [
      "INFO - (NP.utils_torch.lr_range_test) - lr-range-test results: steep: 6.54E-01, min: 4.00E+00\n"
     ]
    },
    {
     "data": {
      "application/vnd.jupyter.widget-view+json": {
       "model_id": "430d8f2bc4da45388e3cc4f4096348ec",
       "version_major": 2,
       "version_minor": 0
      },
      "text/plain": [
       "  0%|          | 0/104 [00:00<?, ?it/s]"
      ]
     },
     "metadata": {},
     "output_type": "display_data"
    },
    {
     "name": "stderr",
     "output_type": "stream",
     "text": [
      "INFO - (NP.utils_torch.lr_range_test) - lr-range-test results: steep: 1.31E-01, min: 2.67E+00\n",
      "INFO - (NP.forecaster._init_train_loader) - lr-range-test selected learning rate: 2.04E-01\n",
      "Epoch[855/855]: 100%|██████████| 855/855 [00:13<00:00, 65.14it/s, SmoothL1Loss=0.0175, MAE=0.0311, RMSE=0.0392, RegLoss=0]\n",
      "INFO - (NP.df_utils._infer_frequency) - Major frequency 2D corresponds to 56.863% of the data.\n",
      "WARNING - (NP.df_utils._infer_frequency) - Dataframe has multiple frequencies. It will be resampled according to given freq D. Ignore message if actual frequency is any of the following:  SM, BM, CBM, SMS, BMS, CBMS, BQ, BQS, BA, or, BAS.\n",
      "INFO - (NP.df_utils._infer_frequency) - Major frequency D corresponds to 99.8% of the data.\n",
      "INFO - (NP.df_utils._infer_frequency) - Defined frequency is equal to major frequency - D\n",
      "INFO - (NP.df_utils._infer_frequency) - Major frequency D corresponds to 99.8% of the data.\n",
      "INFO - (NP.df_utils._infer_frequency) - Defined frequency is equal to major frequency - D\n"
     ]
    }
   ],
   "source": [
    "df = df.dropna()\n",
    "df = df[['Date', 'Injury and Fatigue Score']]\n",
    "df.columns = ['ds', 'y']\n",
    "df['ds']= to_datetime(df['ds'])\n",
    "model = NeuralProphet(growth='Linear')\n",
    "metric = model.fit(df, freq=\"D\")\n",
    "df_future = model.make_future_dataframe(df, periods=500)\n",
    "forecast = model.predict(df_future)\n",
    "forecast = forecast[['ds', 'yhat1']]\n",
    "forecast.columns = ['ds', 'pred1']"
   ]
  },
  {
   "cell_type": "code",
   "execution_count": null,
   "metadata": {},
   "outputs": [],
   "source": [
    "scoreGen = injuryScore.injuryScore(\"embiijo01\", 2021)\n",
    "df = scoreGen.getInjuryScore()\n",
    "df = df[['Date', 'Injury and Fatigue Score']]\n",
    "df.columns = ['ds', 'y']\n",
    "forecast = forecast[forecast['ds'].isin(df['ds'])]\n"
   ]
  },
  {
   "cell_type": "code",
   "execution_count": null,
   "metadata": {},
   "outputs": [
    {
     "name": "stderr",
     "output_type": "stream",
     "text": [
      "ERROR - (NP.config.__post_init__) - Invalid trend growth 'Linear'. Set to 'linear'\n",
      "INFO - (NP.df_utils._infer_frequency) - Major frequency 2D corresponds to 65.278% of the data.\n",
      "WARNING - (NP.df_utils._infer_frequency) - Dataframe has multiple frequencies. It will be resampled according to given freq D. Ignore message if actual frequency is any of the following:  SM, BM, CBM, SMS, BMS, CBMS, BQ, BQS, BA, or, BAS.\n",
      "INFO - (NP.config.init_data_params) - Setting normalization to global as only one dataframe provided for training.\n",
      "INFO - (NP.utils.set_auto_seasonalities) - Disabling yearly seasonality. Run NeuralProphet with yearly_seasonality=True to override this.\n",
      "INFO - (NP.utils.set_auto_seasonalities) - Disabling daily seasonality. Run NeuralProphet with daily_seasonality=True to override this.\n",
      "INFO - (NP.config.set_auto_batch_epoch) - Auto-set batch_size to 16\n",
      "INFO - (NP.config.set_auto_batch_epoch) - Auto-set epochs to 668\n"
     ]
    },
    {
     "data": {
      "application/vnd.jupyter.widget-view+json": {
       "model_id": "353eea92550544d1aaa8eff08306f1fb",
       "version_major": 2,
       "version_minor": 0
      },
      "text/plain": [
       "  0%|          | 0/105 [00:00<?, ?it/s]"
      ]
     },
     "metadata": {},
     "output_type": "display_data"
    },
    {
     "name": "stderr",
     "output_type": "stream",
     "text": [
      "INFO - (NP.utils_torch.lr_range_test) - lr-range-test results: steep: 1.25E+00, min: 6.28E-02\n"
     ]
    },
    {
     "data": {
      "application/vnd.jupyter.widget-view+json": {
       "model_id": "f3a89a2cadf24692827a9488ee25826b",
       "version_major": 2,
       "version_minor": 0
      },
      "text/plain": [
       "  0%|          | 0/105 [00:00<?, ?it/s]"
      ]
     },
     "metadata": {},
     "output_type": "display_data"
    },
    {
     "name": "stderr",
     "output_type": "stream",
     "text": [
      "INFO - (NP.utils_torch.lr_range_test) - lr-range-test results: steep: 8.38E-01, min: 6.28E-02\n",
      "INFO - (NP.forecaster._init_train_loader) - lr-range-test selected learning rate: 4.71E-01\n",
      "Epoch[668/668]: 100%|██████████| 668/668 [00:06<00:00, 100.28it/s, SmoothL1Loss=3.33e-7, MAE=0.000184, RMSE=0.000364, RegLoss=0]\n",
      "INFO - (NP.df_utils._infer_frequency) - Major frequency 2D corresponds to 65.278% of the data.\n",
      "WARNING - (NP.df_utils._infer_frequency) - Dataframe has multiple frequencies. It will be resampled according to given freq D. Ignore message if actual frequency is any of the following:  SM, BM, CBM, SMS, BMS, CBMS, BQ, BQS, BA, or, BAS.\n",
      "INFO - (NP.df_utils._infer_frequency) - Major frequency D corresponds to 99.8% of the data.\n",
      "INFO - (NP.df_utils._infer_frequency) - Defined frequency is equal to major frequency - D\n",
      "INFO - (NP.df_utils._infer_frequency) - Major frequency D corresponds to 99.8% of the data.\n",
      "INFO - (NP.df_utils._infer_frequency) - Defined frequency is equal to major frequency - D\n"
     ]
    }
   ],
   "source": [
    "df = forecast\n",
    "df.columns = ['ds', 'y']\n",
    "model = NeuralProphet(growth='Linear')\n",
    "metric = model.fit(df, freq=\"D\")\n",
    "df_future = model.make_future_dataframe(df, periods=500)\n",
    "forecast = model.predict(df_future)\n",
    "forecast = forecast[['ds', 'yhat1']]\n",
    "forecast.columns = ['ds', 'pred1']"
   ]
  },
  {
   "cell_type": "code",
   "execution_count": null,
   "metadata": {},
   "outputs": [
    {
     "name": "stdout",
     "output_type": "stream",
     "text": [
      "3.3131088626410454\n",
      "-430.56154004682054\n",
      "1.8120827544927598\n"
     ]
    }
   ],
   "source": [
    "scoreGen = injuryScore.injuryScore(\"embiijo01\", 2022)\n",
    "df = scoreGen.getInjuryScore()\n",
    "df = df.dropna()\n",
    "df = df[['Date', 'Injury and Fatigue Score']]\n",
    "df.columns = ['ds', 'y']\n",
    "df['ds']= to_datetime(df['ds'])\n",
    "\n",
    "forecast = forecast[forecast['ds'].isin(df['ds'])]\n",
    "print(mean_squared_error(df['y'], forecast['pred1'], squared=True))\n",
    "print(r2_score(df['y'], forecast['pred1']))\n",
    "print(mean_absolute_error(df['y'], forecast['pred1']))"
   ]
  }
 ],
 "metadata": {
  "interpreter": {
   "hash": "4773eae1c27a84f3e0a624be1fb89967d871af120b026686ba77ccb05325b34e"
  },
  "kernelspec": {
   "display_name": "Python 3.8.13 64-bit",
   "language": "python",
   "name": "python3"
  },
  "language_info": {
   "codemirror_mode": {
    "name": "ipython",
    "version": 3
   },
   "file_extension": ".py",
   "mimetype": "text/x-python",
   "name": "python",
   "nbconvert_exporter": "python",
   "pygments_lexer": "ipython3",
   "version": "3.8.13"
  },
  "orig_nbformat": 4
 },
 "nbformat": 4,
 "nbformat_minor": 2
}
