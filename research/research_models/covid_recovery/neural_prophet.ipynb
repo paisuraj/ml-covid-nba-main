{
 "cells": [
  {
   "cell_type": "code",
   "execution_count": 2,
   "metadata": {
    "collapsed": true,
    "pycharm": {
     "name": "#%%\n"
    }
   },
   "outputs": [],
   "source": [
    "import numpy as np\n",
    "from tqdm.auto import tqdm\n",
    "from sklearn.metrics import mean_absolute_error\n",
    "from data.covid_recovery import Covid\n",
    "from data.injury_labeller.injuryScore import injuryScore\n",
    "from datetime import datetime, timedelta\n",
    "from neuralprophet import NeuralProphet\n",
    "import pandas as pd\n",
    "from scipy.special import expit\n",
    "import logging"
   ]
  },
  {
   "cell_type": "code",
   "execution_count": 3,
   "outputs": [
    {
     "name": "stderr",
     "output_type": "stream",
     "text": [
      "WARNING - (py.warnings._showwarnmsg) - /Users/chasecotton/ml-covid-nba/venv/lib/python3.8/site-packages/pandas/core/strings.py:2001: UserWarning: This pattern has match groups. To actually get the groups, use str.extract.\n",
      "  return func(self, *args, **kwargs)\n",
      "\n"
     ]
    }
   ],
   "source": [
    "data = Covid().get_dataset()"
   ],
   "metadata": {
    "collapsed": false,
    "pycharm": {
     "name": "#%%\n"
    }
   }
  },
  {
   "cell_type": "code",
   "execution_count": 4,
   "outputs": [
    {
     "data": {
      "text/plain": "               Player     Team Deactivated   Activated  Player_ID\n0         Rajon Rondo    Hawks  2020-12-22  2020-12-26  rondora01\n1   Kenyon Martin Jr.  Rockets  2020-12-23  2021-01-03  martike04\n2      Mamadi Diakite    Bucks  2020-12-25  2021-03-11  diakima01\n3       Javonte Green  Celtics  2020-12-30  2021-01-08  greenja02\n4  Chandler Hutchison    Bulls  2020-12-31  2021-01-22  hutchch01",
      "text/html": "<div>\n<style scoped>\n    .dataframe tbody tr th:only-of-type {\n        vertical-align: middle;\n    }\n\n    .dataframe tbody tr th {\n        vertical-align: top;\n    }\n\n    .dataframe thead th {\n        text-align: right;\n    }\n</style>\n<table border=\"1\" class=\"dataframe\">\n  <thead>\n    <tr style=\"text-align: right;\">\n      <th></th>\n      <th>Player</th>\n      <th>Team</th>\n      <th>Deactivated</th>\n      <th>Activated</th>\n      <th>Player_ID</th>\n    </tr>\n  </thead>\n  <tbody>\n    <tr>\n      <th>0</th>\n      <td>Rajon Rondo</td>\n      <td>Hawks</td>\n      <td>2020-12-22</td>\n      <td>2020-12-26</td>\n      <td>rondora01</td>\n    </tr>\n    <tr>\n      <th>1</th>\n      <td>Kenyon Martin Jr.</td>\n      <td>Rockets</td>\n      <td>2020-12-23</td>\n      <td>2021-01-03</td>\n      <td>martike04</td>\n    </tr>\n    <tr>\n      <th>2</th>\n      <td>Mamadi Diakite</td>\n      <td>Bucks</td>\n      <td>2020-12-25</td>\n      <td>2021-03-11</td>\n      <td>diakima01</td>\n    </tr>\n    <tr>\n      <th>3</th>\n      <td>Javonte Green</td>\n      <td>Celtics</td>\n      <td>2020-12-30</td>\n      <td>2021-01-08</td>\n      <td>greenja02</td>\n    </tr>\n    <tr>\n      <th>4</th>\n      <td>Chandler Hutchison</td>\n      <td>Bulls</td>\n      <td>2020-12-31</td>\n      <td>2021-01-22</td>\n      <td>hutchch01</td>\n    </tr>\n  </tbody>\n</table>\n</div>"
     },
     "execution_count": 4,
     "metadata": {},
     "output_type": "execute_result"
    }
   ],
   "source": [
    "data.head()"
   ],
   "metadata": {
    "collapsed": false,
    "pycharm": {
     "name": "#%%\n"
    }
   }
  },
  {
   "cell_type": "code",
   "execution_count": 111,
   "outputs": [],
   "source": [
    "data = Covid().get_dataset()\n",
    "all_tables = []\n",
    "lag = 3\n",
    "count = 0\n",
    "for index, row in data.loc[:, 'Deactivated':'Player_ID'].iterrows():\n",
    "    if len(row.Player_ID) > 1:\n",
    "        try:\n",
    "            year = 2021 if pd.to_datetime(row.Activated) < datetime(2021, 6, 1) else 2022\n",
    "            table = injuryScore(row.Player_ID, 2021).getInjuryScore()\n",
    "        except (IndexError, ValueError):\n",
    "            continue\n",
    "        table.index = pd.to_datetime(table.Date)\n",
    "        table = table.groupby(table.index).mean().resample('D').interpolate().loc[\n",
    "                pd.to_datetime(row.Activated):pd.to_datetime(row.Activated) + timedelta(days=30)]\n",
    "        if len(table) == 31:\n",
    "            table = pd.concat([pd.DataFrame({'ds': pd.date_range(end=table.index[0] - timedelta(days=1), periods=lag, freq='D'),\n",
    "                                             'y': np.zeros(lag)}),\n",
    "                               pd.DataFrame({'ds': table.index,\n",
    "                                             'y': table['Injury and Fatigue Score']})])\n",
    "            all_tables.append(table)"
   ],
   "metadata": {
    "collapsed": false,
    "pycharm": {
     "name": "#%%\n"
    }
   }
  },
  {
   "cell_type": "code",
   "execution_count": 113,
   "outputs": [
    {
     "name": "stdout",
     "output_type": "stream",
     "text": [
      "76 days 00:00:00\n"
     ]
    },
    {
     "data": {
      "text/plain": "                 Player     Team Deactivated   Activated days_out\n402         Rajon Rondo    Hawks  2020-12-22  2020-12-26   4 days\n429   Kenyon Martin Jr.  Rockets  2020-12-23  2021-01-03  11 days\n432      Mamadi Diakite    Bucks  2020-12-25  2021-03-11  76 days\n476       Javonte Green  Celtics  2020-12-30  2021-01-08   9 days\n487  Chandler Hutchison    Bulls  2020-12-31  2021-01-22  22 days",
      "text/html": "<div>\n<style scoped>\n    .dataframe tbody tr th:only-of-type {\n        vertical-align: middle;\n    }\n\n    .dataframe tbody tr th {\n        vertical-align: top;\n    }\n\n    .dataframe thead th {\n        text-align: right;\n    }\n</style>\n<table border=\"1\" class=\"dataframe\">\n  <thead>\n    <tr style=\"text-align: right;\">\n      <th></th>\n      <th>Player</th>\n      <th>Team</th>\n      <th>Deactivated</th>\n      <th>Activated</th>\n      <th>days_out</th>\n    </tr>\n  </thead>\n  <tbody>\n    <tr>\n      <th>402</th>\n      <td>Rajon Rondo</td>\n      <td>Hawks</td>\n      <td>2020-12-22</td>\n      <td>2020-12-26</td>\n      <td>4 days</td>\n    </tr>\n    <tr>\n      <th>429</th>\n      <td>Kenyon Martin Jr.</td>\n      <td>Rockets</td>\n      <td>2020-12-23</td>\n      <td>2021-01-03</td>\n      <td>11 days</td>\n    </tr>\n    <tr>\n      <th>432</th>\n      <td>Mamadi Diakite</td>\n      <td>Bucks</td>\n      <td>2020-12-25</td>\n      <td>2021-03-11</td>\n      <td>76 days</td>\n    </tr>\n    <tr>\n      <th>476</th>\n      <td>Javonte Green</td>\n      <td>Celtics</td>\n      <td>2020-12-30</td>\n      <td>2021-01-08</td>\n      <td>9 days</td>\n    </tr>\n    <tr>\n      <th>487</th>\n      <td>Chandler Hutchison</td>\n      <td>Bulls</td>\n      <td>2020-12-31</td>\n      <td>2021-01-22</td>\n      <td>22 days</td>\n    </tr>\n  </tbody>\n</table>\n</div>"
     },
     "execution_count": 113,
     "metadata": {},
     "output_type": "execute_result"
    }
   ],
   "source": [
    "df['days_out'] = df.apply(lambda row: pd.to_datetime(row.Activated) - pd.to_datetime(row.Deactivated), axis=1)\n",
    "print(df.days_out.max())\n",
    "df.head()"
   ],
   "metadata": {
    "collapsed": false,
    "pycharm": {
     "name": "#%%\n"
    }
   }
  },
  {
   "cell_type": "code",
   "execution_count": 114,
   "outputs": [
    {
     "data": {
      "text/plain": "            health\n2020-03-10    1.00\n2020-03-11    1.00\n2020-03-12    1.00\n2020-03-13    1.00\n2020-03-14    1.00\n...            ...\n2020-05-15    0.46\n2020-05-16    0.64\n2020-05-17    0.82\n2020-05-18    1.00\n2020-05-19    1.00\n\n[71 rows x 1 columns]",
      "text/html": "<div>\n<style scoped>\n    .dataframe tbody tr th:only-of-type {\n        vertical-align: middle;\n    }\n\n    .dataframe tbody tr th {\n        vertical-align: top;\n    }\n\n    .dataframe thead th {\n        text-align: right;\n    }\n</style>\n<table border=\"1\" class=\"dataframe\">\n  <thead>\n    <tr style=\"text-align: right;\">\n      <th></th>\n      <th>health</th>\n    </tr>\n  </thead>\n  <tbody>\n    <tr>\n      <th>2020-03-10</th>\n      <td>1.00</td>\n    </tr>\n    <tr>\n      <th>2020-03-11</th>\n      <td>1.00</td>\n    </tr>\n    <tr>\n      <th>2020-03-12</th>\n      <td>1.00</td>\n    </tr>\n    <tr>\n      <th>2020-03-13</th>\n      <td>1.00</td>\n    </tr>\n    <tr>\n      <th>2020-03-14</th>\n      <td>1.00</td>\n    </tr>\n    <tr>\n      <th>...</th>\n      <td>...</td>\n    </tr>\n    <tr>\n      <th>2020-05-15</th>\n      <td>0.46</td>\n    </tr>\n    <tr>\n      <th>2020-05-16</th>\n      <td>0.64</td>\n    </tr>\n    <tr>\n      <th>2020-05-17</th>\n      <td>0.82</td>\n    </tr>\n    <tr>\n      <th>2020-05-18</th>\n      <td>1.00</td>\n    </tr>\n    <tr>\n      <th>2020-05-19</th>\n      <td>1.00</td>\n    </tr>\n  </tbody>\n</table>\n<p>71 rows × 1 columns</p>\n</div>"
     },
     "execution_count": 114,
     "metadata": {},
     "output_type": "execute_result"
    }
   ],
   "source": [
    "ts = pd.DataFrame(columns={'health'})\n",
    "ts.health = np.concatenate((np.ones(6),np.zeros(df.days_out.iloc[0].days),np.linspace(.1,1,5),np.ones(10)))\n",
    "ts = ts.append(pd.DataFrame(np.concatenate((np.ones(3),np.zeros(7),np.linspace(.1,1,9),np.ones(10))).T, columns={'health'}))\n",
    "ts = ts.append(pd.DataFrame(np.concatenate((np.ones(3),np.zeros(7),np.linspace(.1,1,6),np.ones(1))).T, columns={'health'}))\n",
    "ts.index = pd.date_range('2020-03-10', freq='D', periods=len(ts))\n",
    "ts"
   ],
   "metadata": {
    "collapsed": false,
    "pycharm": {
     "name": "#%%\n"
    }
   }
  },
  {
   "cell_type": "code",
   "execution_count": 115,
   "outputs": [
    {
     "name": "stderr",
     "output_type": "stream",
     "text": [
      "INFO - (NP.df_utils._infer_frequency) - Major frequency D corresponds to 98.485% of the data.\n",
      "INFO - (NP.df_utils._infer_frequency) - Dataframe freq automatically defined as D\n",
      "INFO - (NP.config.init_data_params) - Setting normalization to global as only one dataframe provided for training.\n",
      "INFO - (NP.utils.set_auto_seasonalities) - Disabling yearly seasonality. Run NeuralProphet with yearly_seasonality=True to override this.\n",
      "INFO - (NP.utils.set_auto_seasonalities) - Disabling daily seasonality. Run NeuralProphet with daily_seasonality=True to override this.\n",
      "INFO - (NP.config.set_auto_batch_epoch) - Auto-set batch_size to 16\n",
      "INFO - (NP.config.set_auto_batch_epoch) - Auto-set epochs to 623\n"
     ]
    },
    {
     "data": {
      "text/plain": "  0%|          | 0/189 [00:00<?, ?it/s]",
      "application/vnd.jupyter.widget-view+json": {
       "version_major": 2,
       "version_minor": 0,
       "model_id": "8c5b302c3e794e1f80a1b600f16a4501"
      }
     },
     "metadata": {},
     "output_type": "display_data"
    },
    {
     "name": "stderr",
     "output_type": "stream",
     "text": [
      "INFO - (NP.utils_torch.lr_range_test) - lr-range-test results: steep: 8.63E-02, min: 7.83E-01\n"
     ]
    },
    {
     "data": {
      "text/plain": "  0%|          | 0/189 [00:00<?, ?it/s]",
      "application/vnd.jupyter.widget-view+json": {
       "version_major": 2,
       "version_minor": 0,
       "model_id": "f475909bf14c4dc5b02afd48e1a2578d"
      }
     },
     "metadata": {},
     "output_type": "display_data"
    },
    {
     "name": "stderr",
     "output_type": "stream",
     "text": [
      "INFO - (NP.utils_torch.lr_range_test) - lr-range-test results: steep: 7.73E-02, min: 1.22E+00\n"
     ]
    },
    {
     "data": {
      "text/plain": "  0%|          | 0/189 [00:00<?, ?it/s]",
      "application/vnd.jupyter.widget-view+json": {
       "version_major": 2,
       "version_minor": 0,
       "model_id": "4c8071ef9eef4186b88ab9797b080885"
      }
     },
     "metadata": {},
     "output_type": "display_data"
    },
    {
     "name": "stderr",
     "output_type": "stream",
     "text": [
      "INFO - (NP.utils_torch.lr_range_test) - lr-range-test results: steep: 1.08E-01, min: 5.62E-01\n",
      "INFO - (NP.forecaster._init_train_loader) - lr-range-test selected learning rate: 8.96E-02\n",
      "Epoch[623/623]: 100%|██████████| 623/623 [00:04<00:00, 133.82it/s, SmoothL1Loss=0.0117, MAE=0.113, RMSE=0.151, RegLoss=0]\n"
     ]
    },
    {
     "data": {
      "text/plain": "     SmoothL1Loss       MAE      RMSE  RegLoss\n0        0.834492  1.245562  1.524191      0.0\n1        0.818838  1.229828  1.504458      0.0\n2        0.803505  1.214122  1.479788      0.0\n3        0.788472  1.198617  1.460539      0.0\n4        0.773037  1.183103  1.442167      0.0\n..            ...       ...       ...      ...\n618      0.011736  0.112743  0.151596      0.0\n619      0.011736  0.112748  0.150916      0.0\n620      0.011736  0.112748  0.149202      0.0\n621      0.011736  0.112748  0.152480      0.0\n622      0.011736  0.112748  0.150973      0.0\n\n[623 rows x 4 columns]",
      "text/html": "<div>\n<style scoped>\n    .dataframe tbody tr th:only-of-type {\n        vertical-align: middle;\n    }\n\n    .dataframe tbody tr th {\n        vertical-align: top;\n    }\n\n    .dataframe thead th {\n        text-align: right;\n    }\n</style>\n<table border=\"1\" class=\"dataframe\">\n  <thead>\n    <tr style=\"text-align: right;\">\n      <th></th>\n      <th>SmoothL1Loss</th>\n      <th>MAE</th>\n      <th>RMSE</th>\n      <th>RegLoss</th>\n    </tr>\n  </thead>\n  <tbody>\n    <tr>\n      <th>0</th>\n      <td>0.834492</td>\n      <td>1.245562</td>\n      <td>1.524191</td>\n      <td>0.0</td>\n    </tr>\n    <tr>\n      <th>1</th>\n      <td>0.818838</td>\n      <td>1.229828</td>\n      <td>1.504458</td>\n      <td>0.0</td>\n    </tr>\n    <tr>\n      <th>2</th>\n      <td>0.803505</td>\n      <td>1.214122</td>\n      <td>1.479788</td>\n      <td>0.0</td>\n    </tr>\n    <tr>\n      <th>3</th>\n      <td>0.788472</td>\n      <td>1.198617</td>\n      <td>1.460539</td>\n      <td>0.0</td>\n    </tr>\n    <tr>\n      <th>4</th>\n      <td>0.773037</td>\n      <td>1.183103</td>\n      <td>1.442167</td>\n      <td>0.0</td>\n    </tr>\n    <tr>\n      <th>...</th>\n      <td>...</td>\n      <td>...</td>\n      <td>...</td>\n      <td>...</td>\n    </tr>\n    <tr>\n      <th>618</th>\n      <td>0.011736</td>\n      <td>0.112743</td>\n      <td>0.151596</td>\n      <td>0.0</td>\n    </tr>\n    <tr>\n      <th>619</th>\n      <td>0.011736</td>\n      <td>0.112748</td>\n      <td>0.150916</td>\n      <td>0.0</td>\n    </tr>\n    <tr>\n      <th>620</th>\n      <td>0.011736</td>\n      <td>0.112748</td>\n      <td>0.149202</td>\n      <td>0.0</td>\n    </tr>\n    <tr>\n      <th>621</th>\n      <td>0.011736</td>\n      <td>0.112748</td>\n      <td>0.152480</td>\n      <td>0.0</td>\n    </tr>\n    <tr>\n      <th>622</th>\n      <td>0.011736</td>\n      <td>0.112748</td>\n      <td>0.150973</td>\n      <td>0.0</td>\n    </tr>\n  </tbody>\n</table>\n<p>623 rows × 4 columns</p>\n</div>"
     },
     "execution_count": 115,
     "metadata": {},
     "output_type": "execute_result"
    }
   ],
   "source": [
    "np_df = ts.copy()\n",
    "np_df.rename({'health':'y'},axis=1,inplace=True)\n",
    "np_df['ds'] = np_df.index\n",
    "train_df = np_df[:-5]\n",
    "test_df = np_df[-5:]\n",
    "model = NeuralProphet(n_lags=10, n_forecasts=5)\n",
    "model.fit(train_df)"
   ],
   "metadata": {
    "collapsed": false,
    "pycharm": {
     "name": "#%%\n"
    }
   }
  },
  {
   "cell_type": "code",
   "execution_count": 116,
   "outputs": [
    {
     "name": "stderr",
     "output_type": "stream",
     "text": [
      "INFO - (NP.df_utils._infer_frequency) - Major frequency D corresponds to 98.485% of the data.\n",
      "INFO - (NP.df_utils._infer_frequency) - Defined frequency is equal to major frequency - D\n",
      "INFO - (NP.df_utils._infer_frequency) - Major frequency D corresponds to 93.333% of the data.\n",
      "INFO - (NP.df_utils._infer_frequency) - Defined frequency is equal to major frequency - D\n",
      "INFO - (NP.df_utils._infer_frequency) - Major frequency D corresponds to 93.333% of the data.\n",
      "INFO - (NP.df_utils._infer_frequency) - Defined frequency is equal to major frequency - D\n"
     ]
    }
   ],
   "source": [
    "pred = model.predict(model.make_future_dataframe(df=train_df))"
   ],
   "metadata": {
    "collapsed": false,
    "pycharm": {
     "name": "#%%\n"
    }
   }
  },
  {
   "cell_type": "code",
   "execution_count": 117,
   "outputs": [
    {
     "data": {
      "text/plain": "0.06156082895129823"
     },
     "execution_count": 117,
     "metadata": {},
     "output_type": "execute_result"
    }
   ],
   "source": [
    "pred = abs(pred.fillna(method='bfill', axis=1).y[-5:])\n",
    "mean_squared_error(test_df.y, pred)"
   ],
   "metadata": {
    "collapsed": false,
    "pycharm": {
     "name": "#%%\n"
    }
   }
  },
  {
   "cell_type": "code",
   "execution_count": 118,
   "outputs": [
    {
     "data": {
      "text/plain": "<Figure size 432x288 with 1 Axes>",
      "image/png": "[encoded data removed]"
     },
     "metadata": {
      "needs_background": "light"
     },
     "output_type": "display_data"
    }
   ],
   "source": [
    "plt.plot(range(7), np.concatenate((train_df.y.values[-6:],[test_df.y[0]])), label='training')\n",
    "plt.plot(range(6, 6 + len(test_df)), pred.values, label='predicted')\n",
    "plt.plot(range(6, 6 + len(test_df)), test_df.y.values, label='real')\n",
    "plt.legend()\n",
    "plt.show()"
   ],
   "metadata": {
    "collapsed": false,
    "pycharm": {
     "name": "#%%\n"
    }
   }
  },
  {
   "cell_type": "code",
   "execution_count": 118,
   "outputs": [],
   "source": [],
   "metadata": {
    "collapsed": false,
    "pycharm": {
     "name": "#%%\n"
    }
   }
  }
 ],
 "metadata": {
  "kernelspec": {
   "display_name": "Python 3",
   "language": "python",
   "name": "python3"
  },
  "language_info": {
   "codemirror_mode": {
    "name": "ipython",
    "version": 2
   },
   "file_extension": ".py",
   "mimetype": "text/x-python",
   "name": "python",
   "nbconvert_exporter": "python",
   "pygments_lexer": "ipython2",
   "version": "2.7.6"
  }
 },
 "nbformat": 4,
 "nbformat_minor": 0
}