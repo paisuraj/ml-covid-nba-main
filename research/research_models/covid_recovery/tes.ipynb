{
 "cells": [
  {
   "cell_type": "code",
   "execution_count": 1,
   "metadata": {
    "collapsed": true
   },
   "outputs": [],
   "source": [
    "import pandas as pd\n",
    "import numpy as np\n",
    "from statsmodels.tsa.holtwinters import ExponentialSmoothing as TES\n",
    "from sklearn.metrics import mean_squared_error\n",
    "from data.read_data import read_data\n",
    "from data import COVID\n",
    "import matplotlib.pyplot as plt\n",
    "import warnings\n",
    "warnings.filterwarnings(\"ignore\")"
   ]
  },
  {
   "cell_type": "code",
   "execution_count": 3,
   "outputs": [
    {
     "data": {
      "text/plain": "            health\n2020-03-10    1.00\n2020-03-11    1.00\n2020-03-12    1.00\n2020-03-13    1.00\n2020-03-14    1.00\n...            ...\n2020-05-15    0.46\n2020-05-16    0.64\n2020-05-17    0.82\n2020-05-18    1.00\n2020-05-19    1.00\n\n[71 rows x 1 columns]",
      "text/html": "<div>\n<style scoped>\n    .dataframe tbody tr th:only-of-type {\n        vertical-align: middle;\n    }\n\n    .dataframe tbody tr th {\n        vertical-align: top;\n    }\n\n    .dataframe thead th {\n        text-align: right;\n    }\n</style>\n<table border=\"1\" class=\"dataframe\">\n  <thead>\n    <tr style=\"text-align: right;\">\n      <th></th>\n      <th>health</th>\n    </tr>\n  </thead>\n  <tbody>\n    <tr>\n      <th>2020-03-10</th>\n      <td>1.00</td>\n    </tr>\n    <tr>\n      <th>2020-03-11</th>\n      <td>1.00</td>\n    </tr>\n    <tr>\n      <th>2020-03-12</th>\n      <td>1.00</td>\n    </tr>\n    <tr>\n      <th>2020-03-13</th>\n      <td>1.00</td>\n    </tr>\n    <tr>\n      <th>2020-03-14</th>\n      <td>1.00</td>\n    </tr>\n    <tr>\n      <th>...</th>\n      <td>...</td>\n    </tr>\n    <tr>\n      <th>2020-05-15</th>\n      <td>0.46</td>\n    </tr>\n    <tr>\n      <th>2020-05-16</th>\n      <td>0.64</td>\n    </tr>\n    <tr>\n      <th>2020-05-17</th>\n      <td>0.82</td>\n    </tr>\n    <tr>\n      <th>2020-05-18</th>\n      <td>1.00</td>\n    </tr>\n    <tr>\n      <th>2020-05-19</th>\n      <td>1.00</td>\n    </tr>\n  </tbody>\n</table>\n<p>71 rows × 1 columns</p>\n</div>"
     },
     "execution_count": 3,
     "metadata": {},
     "output_type": "execute_result"
    }
   ],
   "source": [
    "df = read_data(COVID)\n",
    "df['days_out'] = df.apply(lambda row: pd.to_datetime(row.Activated) - pd.to_datetime(row.Deactivated), axis=1)\n",
    "ts = pd.DataFrame(columns={'health'})\n",
    "ts.health = np.concatenate((np.ones(6),np.zeros(df.days_out.iloc[0].days),np.linspace(.1,1,5),np.ones(10)))\n",
    "ts = ts.append(pd.DataFrame(np.concatenate((np.ones(3),np.zeros(7),np.linspace(.1,1,9),np.ones(10))).T, columns={'health'}))\n",
    "ts = ts.append(pd.DataFrame(np.concatenate((np.ones(3),np.zeros(7),np.linspace(.1,1,6),np.ones(1))).T, columns={'health'}))\n",
    "ts.index = pd.date_range('2020-03-10', freq='D', periods=len(ts))\n",
    "ts"
   ],
   "metadata": {
    "collapsed": false,
    "pycharm": {
     "name": "#%%\n"
    }
   }
  },
  {
   "cell_type": "code",
   "execution_count": 4,
   "outputs": [],
   "source": [
    "train_df = ts[:-5]\n",
    "test_df = ts[-5:]"
   ],
   "metadata": {
    "collapsed": false,
    "pycharm": {
     "name": "#%%\n"
    }
   }
  },
  {
   "cell_type": "code",
   "execution_count": 24,
   "outputs": [
    {
     "name": "stdout",
     "output_type": "stream",
     "text": [
      "Mean Squared Error: 0.031235704570154222\n"
     ]
    }
   ],
   "source": [
    "model = TES(train_df, seasonal_periods=22)\n",
    "model.fit(smoothing_level=.1)\n",
    "pred = model.predict(model.params, start=0, end=4)\n",
    "print(f'Mean Squared Error: {mean_squared_error(test_df.health, pred)}')"
   ],
   "metadata": {
    "collapsed": false,
    "pycharm": {
     "name": "#%%\n"
    }
   }
  },
  {
   "cell_type": "code",
   "execution_count": 23,
   "outputs": [
    {
     "data": {
      "text/plain": "<Figure size 432x288 with 1 Axes>",
      "image/png": "[encoded data removed]"
     },
     "metadata": {
      "needs_background": "light"
     },
     "output_type": "display_data"
    }
   ],
   "source": [
    "plt.plot(range(7), np.concatenate((train_df.health.values[-6:],[test_df.health[0]])), label='training')\n",
    "plt.plot(range(6, 6 + len(test_df)), pred, label='predicted')\n",
    "plt.plot(range(6, 6 + len(test_df)), test_df.health.values, label='real')\n",
    "plt.legend()\n",
    "plt.show()"
   ],
   "metadata": {
    "collapsed": false,
    "pycharm": {
     "name": "#%%\n"
    }
   }
  },
  {
   "cell_type": "code",
   "execution_count": null,
   "outputs": [],
   "source": [],
   "metadata": {
    "collapsed": false,
    "pycharm": {
     "name": "#%%\n"
    }
   }
  }
 ],
 "metadata": {
  "kernelspec": {
   "display_name": "Python 3",
   "language": "python",
   "name": "python3"
  },
  "language_info": {
   "codemirror_mode": {
    "name": "ipython",
    "version": 2
   },
   "file_extension": ".py",
   "mimetype": "text/x-python",
   "name": "python",
   "nbconvert_exporter": "python",
   "pygments_lexer": "ipython2",
   "version": "2.7.6"
  }
 },
 "nbformat": 4,
 "nbformat_minor": 0
}