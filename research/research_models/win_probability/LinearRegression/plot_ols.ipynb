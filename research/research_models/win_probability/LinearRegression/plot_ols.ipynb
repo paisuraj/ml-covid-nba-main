{
 "cells": [
  {
   "cell_type": "code",
   "execution_count": 4,
   "metadata": {
    "collapsed": true
   },
   "outputs": [
    {
     "data": {
      "text/plain": "<Figure size 432x288 with 1 Axes>",
      "image/png": "[encoded data removed]"
     },
     "metadata": {
      "needs_background": "light"
     },
     "output_type": "display_data"
    }
   ],
   "source": [
    "import matplotlib.pyplot as plt\n",
    "import numpy as np\n",
    "from sklearn import datasets, linear_model\n",
    "from sklearn.metrics import mean_squared_error, r2_score\n",
    "\n",
    "#Resources\n",
    "# https://scikit-learn.org/stable/auto_examples/linear_model/plot_ols.html#sphx-glr-auto-examples-linear-model-plot-ols-py\n",
    "\n",
    "#Load the diabetes dataset from sklearn\n",
    "dia_x, dia_y =  datasets.load_diabetes(return_X_y=True)\n",
    "\n",
    "#Use one feature\n",
    "dia_x = dia_x[:, np.newaxis, 2]\n",
    "\n",
    "#Split data into training and testing sets\n",
    "dia_x_train = dia_x[:-20]\n",
    "dia_x_test = dia_x[-20:]\n",
    "\n",
    "#Split targets into training and testing sets\n",
    "dia_y_train = dia_y[:-20]\n",
    "dia_y_test = dia_y[-20:]\n",
    "\n",
    "#Create a linear regression object\n",
    "regr = linear_model.LinearRegression()\n",
    "\n",
    "#Train model from training sets\n",
    "regr.fit(dia_x_train, dia_y_train)\n",
    "\n",
    "#Make predictions using the testing set\n",
    "dia_y_predict = regr.predict(dia_x_test)\n",
    "\n",
    "#Plot the test data\n",
    "plt.scatter(dia_x_test, dia_y_test, color=\"black\")\n",
    "\n",
    "#Sketch line of prediction\n",
    "plt.plot(dia_x_test, dia_y_predict, color=\"red\", linewidth=3)\n",
    "\n",
    "plt.show()\n"
   ]
  }
 ],
 "metadata": {
  "kernelspec": {
   "display_name": "Python 3",
   "language": "python",
   "name": "python3"
  },
  "language_info": {
   "codemirror_mode": {
    "name": "ipython",
    "version": 2
   },
   "file_extension": ".py",
   "mimetype": "text/x-python",
   "name": "python",
   "nbconvert_exporter": "python",
   "pygments_lexer": "ipython2",
   "version": "2.7.6"
  }
 },
 "nbformat": 4,
 "nbformat_minor": 0
}