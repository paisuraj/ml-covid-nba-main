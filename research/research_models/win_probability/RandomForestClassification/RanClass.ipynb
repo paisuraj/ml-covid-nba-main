{
 "cells": [
  {
   "cell_type": "code",
   "execution_count": 71,
   "metadata": {
    "collapsed": true
   },
   "outputs": [],
   "source": [
    "from sklearn.ensemble import RandomForestClassifier\n",
    "from sklearn.datasets import load_iris\n",
    "import pandas as pd\n",
    "from sklearn.model_selection import train_test_split\n",
    "\n",
    "#https://chrisalbon.com/code/machine_learning/trees_and_forests/random_forest_classifier_example/"
   ]
  },
  {
   "cell_type": "code",
   "execution_count": 72,
   "outputs": [
    {
     "name": "stdout",
     "output_type": "stream",
     "text": [
      "Predicted Species  setosa  versicolor  virginica\n",
      "Actual Species                                  \n",
      "0                      16           0          0\n",
      "1                       0          19          2\n",
      "2                       0           2         11\n",
      "[('sepal length (cm)', 0.08813853581870489), ('sepal width (cm)', 0.03462038385414762), ('petal length (cm)', 0.39477403279861045), ('petal width (cm)', 0.482467047528537)]\n"
     ]
    }
   ],
   "source": [
    "iris = load_iris()\n",
    "\n",
    "dataframe = pd.DataFrame(iris.data, columns=iris.feature_names)\n",
    "# dataframe.head()\n",
    "\n",
    "dataframe['species'] = pd.Categorical.from_codes(iris.target, iris.target_names)\n",
    "dataframe.head()\n",
    "\n",
    "\n",
    "X_train, X_test, y_train, y_test = train_test_split(dataframe.drop('species', axis=1), iris.target, test_size=0.33)\n",
    "\n",
    "model = RandomForestClassifier()\n",
    "\n",
    "model.fit(X_train, y_train)\n",
    "y_pred = model.predict(X_test)\n",
    "\n",
    "preds = iris.target_names[y_pred]\n",
    "\n",
    "#Confusion Matrix\n",
    "Confus = pd.crosstab(y_test, preds, rownames=['Actual Species'], colnames=[\"Predicted Species\"])\n",
    "\n",
    "print(Confus)\n",
    "\n",
    "#Feature importance\n",
    "print(list(zip(X_train, model.feature_importances_)))\n",
    "\n"
   ],
   "metadata": {
    "collapsed": false,
    "pycharm": {
     "name": "#%%\n"
    }
   }
  }
 ],
 "metadata": {
  "kernelspec": {
   "display_name": "Python 3",
   "language": "python",
   "name": "python3"
  },
  "language_info": {
   "codemirror_mode": {
    "name": "ipython",
    "version": 2
   },
   "file_extension": ".py",
   "mimetype": "text/x-python",
   "name": "python",
   "nbconvert_exporter": "python",
   "pygments_lexer": "ipython2",
   "version": "2.7.6"
  }
 },
 "nbformat": 4,
 "nbformat_minor": 0
}