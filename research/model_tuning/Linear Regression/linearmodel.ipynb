{
 "cells": [
  {
   "cell_type": "code",
   "execution_count": 16,
   "metadata": {},
   "outputs": [],
   "source": [
    "from mlflow_utils import setup, test_data, team_train_test_split, atlantic_division\n",
    "from mlflow_utils.metrics import classification, regression\n",
    "import mlflow\n",
    "# import model\n",
    "from sklearn.model_selection import train_test_split, GridSearchCV, RandomizedSearchCV\n",
    "import pandas as pd\n",
    "import numpy as np\n",
    "from data import chance_of_victory\n",
    "\n",
    "setup() # leave blank, if doing covid or win prob then pass 'covid' or 'win'"
   ]
  },
  {
   "cell_type": "code",
   "execution_count": 17,
   "metadata": {
    "collapsed": false,
    "jupyter": {
     "outputs_hidden": false
    },
    "pycharm": {
     "name": "#%%\n"
    }
   },
   "outputs": [],
   "source": [
    "model_name = \"linear\" # place name of model here eg xgboost\n",
    "problem_type = \"regression\" # place one of [regression, classification, ts] here"
   ]
  },
  {
   "cell_type": "code",
   "execution_count": 18,
   "metadata": {
    "collapsed": false,
    "jupyter": {
     "outputs_hidden": false
    },
    "pycharm": {
     "name": "#%%\n"
    }
   },
   "outputs": [],
   "source": [
    "data = test_data(data=problem_type) # returns real dataset"
   ]
  },
  {
   "cell_type": "code",
   "execution_count": 19,
   "metadata": {},
   "outputs": [
    {
     "name": "stdout",
     "output_type": "stream",
     "text": [
      "dataset(data=                       Team  Points               Opponent Location    FG  \\\n",
      "0           Milwaukee Bucks     127          Brooklyn Nets     Home  42.9   \n",
      "1        Los Angeles Lakers     114  Golden State Warriors     Home  48.8   \n",
      "2         Charlotte Hornets     123         Indiana Pacers     Home  42.6   \n",
      "3           Detroit Pistons      88          Chicago Bulls     Home  43.9   \n",
      "4           New York Knicks     138         Boston Celtics     Home  43.6   \n",
      "...                     ...     ...                    ...      ...   ...   \n",
      "2107  Oklahoma City Thunder     108             Miami Heat     Away  29.4   \n",
      "2108   New Orleans Pelicans     124      San Antonio Spurs     Away  29.6   \n",
      "2109   Los Angeles Clippers      92              Utah Jazz     Away  37.2   \n",
      "2110          Chicago Bulls     102           Phoenix Suns     Away  47.0   \n",
      "2111         Boston Celtics     126       Sacramento Kings     Away  39.3   \n",
      "\n",
      "        FGA     FG%    3P   3PA    3P%  ...   BPM  VORP  Opponent_MOV  \\\n",
      "0      93.3  10.779  15.0  39.5  4.022  ...  -6.1  10.0          0.41   \n",
      "1      99.0  11.799  12.2  33.9  3.847  ...  37.4   6.9          5.78   \n",
      "2      92.0  12.565  13.7  38.0  3.717  ... -65.8   5.3         -3.07   \n",
      "3     104.7  12.213  12.9  41.1  4.056  ... -76.3   0.2          0.39   \n",
      "4     101.9  12.532  15.8  44.5  3.839  ... -24.3   5.8          6.66   \n",
      "...     ...     ...   ...   ...    ...  ...   ...   ...           ...   \n",
      "2107   68.8   9.743   7.3  25.3  2.657  ... -64.6   0.9          3.89   \n",
      "2108   65.6  10.404   9.0  26.6  3.655  ... -25.9   2.6         -0.39   \n",
      "2109   83.1  10.701  13.3  36.1  3.661  ... -22.0   3.9          5.93   \n",
      "2110   96.7  11.479  12.0  32.2  3.643  ...  -1.7   7.4          8.43   \n",
      "2111   87.3  10.325  13.1  37.9  3.648  ...  -9.9   9.9         -5.17   \n",
      "\n",
      "      Opponent_ORtg  Opponent_DRtg  Opponent_NRtg  Opponent_MOV/A  \\\n",
      "0            114.25         113.89           0.36            0.57   \n",
      "1            113.38         107.50           5.88            5.70   \n",
      "2            112.80         115.90          -3.10           -2.98   \n",
      "3            114.06         113.74           0.32            0.18   \n",
      "4            114.31         107.27           7.04            6.20   \n",
      "...             ...            ...            ...             ...   \n",
      "2107         114.02         109.98           4.04            3.68   \n",
      "2108         112.59         113.09          -0.50           -0.37   \n",
      "2109         117.46         111.39           6.07            5.58   \n",
      "2110         116.39         107.98           8.42            7.79   \n",
      "2111         110.81         116.08          -5.27           -4.91   \n",
      "\n",
      "      Opponent_ORtg/A  Opponent_DRtg/A  Opponent_NRtg/A  \n",
      "0              114.57           114.03             0.54  \n",
      "1              113.31           107.53             5.78  \n",
      "2              112.90           115.91            -3.00  \n",
      "3              114.00           113.88             0.12  \n",
      "4              113.95           107.38             6.57  \n",
      "...               ...              ...              ...  \n",
      "2107           113.84           110.02             3.82  \n",
      "2108           112.74           113.21            -0.47  \n",
      "2109           117.29           111.59             5.70  \n",
      "2110           116.05           108.29             7.76  \n",
      "2111           111.05           116.06            -5.01  \n",
      "\n",
      "[2112 rows x 54 columns], target='Points')\n"
     ]
    }
   ],
   "source": [
    "print(data)"
   ]
  },
  {
   "cell_type": "code",
   "execution_count": 30,
   "metadata": {
    "collapsed": false,
    "jupyter": {
     "outputs_hidden": false
    },
    "pycharm": {
     "name": "#%%\n"
    }
   },
   "outputs": [],
   "source": [
    "# split data\n",
    "team = 'Boston Celtics'       # only needed if doing regression\n",
    "if problem_type == 'regression':\n",
    "    opponents = [t for t in atlantic_division if t != team]\n",
    "    x_train, x_test, y_train, y_test = team_train_test_split(team=team, opponents=opponents, data=data)\n",
    "else:\n",
    "    x_train, x_test, y_train, y_test = train_test_split(data.data.drop([data.target], axis=1), data.data[data.target], test_size=.25)"
   ]
  },
  {
   "cell_type": "code",
   "execution_count": 31,
   "metadata": {},
   "outputs": [],
   "source": [
    "from sklearn import linear_model"
   ]
  },
  {
   "cell_type": "code",
   "execution_count": 40,
   "metadata": {
    "collapsed": false,
    "jupyter": {
     "outputs_hidden": false
    },
    "pycharm": {
     "name": "#%%\n"
    }
   },
   "outputs": [],
   "source": [
    "mlflow.autolog(silent=True)\n",
    "# initialize model\n",
    "regr = linear_model.LinearRegression()\n",
    "\n",
    "\n",
    "with mlflow.start_run() as run:\n",
    "    mlflow.tracking.MlflowClient().set_tag(run_id=run.info.run_id, key=model_name, value=problem_type)\n",
    "    # train model\n",
    "    regr.fit(x_train, y_train)\n",
    "    y_pred = regr.predict(x_test)\n",
    "    \n",
    "    # run classification/regression metrics to log results\n",
    "    metrics = regression(y_test, y_pred)\n"
   ]
  },
  {
   "cell_type": "code",
   "execution_count": 37,
   "metadata": {},
   "outputs": [],
   "source": [
    "from sklearn.metrics import mean_squared_error, r2_score"
   ]
  },
  {
   "cell_type": "code",
   "execution_count": 38,
   "metadata": {},
   "outputs": [
    {
     "name": "stdout",
     "output_type": "stream",
     "text": [
      "Mean square error: 3.2073700478909026e+25\n",
      "R2 Score:  -1.3046103492216594e+23\n"
     ]
    }
   ],
   "source": [
    "print(\"Mean square error:\" ,mean_squared_error(y_test, y_pred))\n",
    "print(\"R2 Score: \", r2_score(y_test, y_pred))"
   ]
  },
  {
   "cell_type": "code",
   "execution_count": 39,
   "metadata": {},
   "outputs": [
    {
     "name": "stdout",
     "output_type": "stream",
     "text": [
      "{'r2': -1.3046103492216594e+23, 'mse': 3.2073700478909026e+25, 'mae': 2067968422691.947, 'mape': 19524775345.622128}\n"
     ]
    }
   ],
   "source": [
    "print(metrics)"
   ]
  },
  {
   "cell_type": "code",
   "execution_count": null,
   "metadata": {},
   "outputs": [],
   "source": []
  }
 ],
 "metadata": {
  "kernelspec": {
   "display_name": "Python 3",
   "language": "python",
   "name": "python3"
  },
  "language_info": {
   "codemirror_mode": {
    "name": "ipython",
    "version": 3
   },
   "file_extension": ".py",
   "mimetype": "text/x-python",
   "name": "python",
   "nbconvert_exporter": "python",
   "pygments_lexer": "ipython3",
   "version": "3.6.15"
  }
 },
 "nbformat": 4,
 "nbformat_minor": 4
}
