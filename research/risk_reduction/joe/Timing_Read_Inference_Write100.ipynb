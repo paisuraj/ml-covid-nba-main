{
 "cells": [
  {
   "cell_type": "code",
   "execution_count": 5,
   "metadata": {},
   "outputs": [],
   "source": [
    "#Read Table Method\n",
    "import pandas as pd\n",
    "import cx_Oracle\n",
    "import sqlalchemy\n",
    "\n",
    "#establish connection -- USE SPECIFIC PATH\n",
    "cx_Oracle.init_oracle_client(lib_dir=r\"/Users/ethanblumenfeld/Downloads/instantclient_19_8\")"
   ]
  },
  {
   "cell_type": "code",
   "execution_count": 6,
   "metadata": {},
   "outputs": [],
   "source": [
    "def readTable(user, password, dsn, table):\n",
    "\n",
    "\n",
    "    connection = cx_Oracle.connect(user=user, password=password, dsn=dsn)\n",
    "\n",
    "    cursor = connection.cursor()\n",
    "\n",
    "    # return table as Data Frame\n",
    "\n",
    "    query = \"\"\"select * \n",
    "            from \"\"\" + table;\n",
    "    df = pd.read_sql(query, con=connection)\n",
    "\n",
    "    #print(df)\n",
    "    return df\n",
    "   \n"
   ]
  },
  {
   "cell_type": "code",
   "execution_count": 20,
   "metadata": {
    "scrolled": true
   },
   "outputs": [
    {
     "name": "stdout",
     "output_type": "stream",
     "text": [
      "   TEAM_NAME  GAMEDATE   STAT1      STAT2  STAT3 STAT4 STAT5\n",
      "0      team1  4/7/2022     one        two  three  four  five\n",
      "1      team4  4/7/2022    good        bad   good   bad  good\n",
      "2      team5  4/7/2022    good        bad   good   bad  good\n",
      "3      team5  4/7/2022  great!  Terrible!   None  None  None\n",
      "4      team5  4/7/2022    good        bad   good   bad  good\n",
      "5      team5  4/7/2022  great!        bad   good   bad  good\n",
      "6      team2  4/7/2022     one        two  three  four  five\n",
      "7      team3  4/7/2022     one        two  three  four  five\n",
      "8      team4  4/7/2022    good        bad   good   bad  good\n",
      "9      team5  4/7/2022    good        bad   good   bad  good\n",
      "10      None      None    None       None   None  None  None\n"
     ]
    }
   ],
   "source": [
    "#example\n",
    "df = readTable(\"admin\", \"!1Iloveoracle\", \"db202203241240_high\", \"team_sample\")\n",
    "print(df)"
   ]
  },
  {
   "cell_type": "code",
   "execution_count": 41,
   "metadata": {},
   "outputs": [],
   "source": [
    "# valDict is a dictionary of table column name mapped to value.\n",
    "def writeToTable(user, password, dsn, table, valDict):\n",
    "\n",
    "\n",
    "    connection = cx_Oracle.connect(user=user, password=password, dsn=dsn)\n",
    "\n",
    "    cursor = connection.cursor()\n",
    "    defaultDict = {'Predictive_Outcome':0}\n",
    "    \n",
    "    values = []\n",
    "    for column in defaultDict:\n",
    "        if column in valDict:\n",
    "            values.append(valDict[column])\n",
    "        else:\n",
    "            values.append(defaultDict[column])\n",
    "            \n",
    "    cursor.execute(\"insert into \"+table+\"(Predictive_Outcome) values (:1)\", values)\n",
    "\n",
    "    connection.commit()\n",
    "\n",
    "#example\n",
    "#values = {'TEAM_NAME':'team5' , 'GAMEDATE':'4/7/2022' , 'STAT1':'great!' , 'STAT2':'bad' , 'STAT3':'good' , 'STAT4':'bad', 'STAT5':'good'}\n",
    "#values = {'TEAM_NAME':'team5' , 'GAMEDATE':'4/7/2022' , 'STAT1':'great!' , 'STAT2':'Terrible!'}\n",
    "#writeToTable(\"admin\", \"!1Iloveoracle\", \"db202203241240_high\", \"team_sample\", values)"
   ]
  },
  {
   "cell_type": "markdown",
   "metadata": {},
   "source": [
    "Method 1:"
   ]
  },
  {
   "cell_type": "code",
   "execution_count": 25,
   "metadata": {},
   "outputs": [
    {
     "name": "stdout",
     "output_type": "stream",
     "text": [
      "CPU times: user 75.5 ms, sys: 8.87 ms, total: 84.3 ms\n",
      "Wall time: 2.19 s\n"
     ]
    }
   ],
   "source": [
    "%%time\n",
    "df = readTable(\"NBACOVID\", \"!1Iloveoracle\", \"db202203241240_high\", \"DATASET\")"
   ]
  },
  {
   "cell_type": "markdown",
   "metadata": {},
   "source": [
    "Method 2:"
   ]
  },
  {
   "cell_type": "code",
   "execution_count": 21,
   "metadata": {},
   "outputs": [
    {
     "name": "stdout",
     "output_type": "stream",
     "text": [
      "2.902796809999927 Seconds\n"
     ]
    }
   ],
   "source": [
    "import timeit\n",
    "start_time = timeit.default_timer()\n",
    "\n",
    "#Code to time\n",
    "df = readTable(\"NBACOVID\", \"!1Iloveoracle\", \"db202203241240_high\", \"DATASET\")\n",
    "\n",
    "elapsed = timeit.default_timer() - start_time\n",
    "print(elapsed, \"Seconds\")"
   ]
  },
  {
   "cell_type": "code",
   "execution_count": 43,
   "metadata": {},
   "outputs": [
    {
     "name": "stdout",
     "output_type": "stream",
     "text": [
      "0.9663302169992676 Seconds\n"
     ]
    }
   ],
   "source": [
    "import timeit\n",
    "start_time = timeit.default_timer()\n",
    "\n",
    "#Code to time\n",
    "values = {'Predictive_Outcome':5}\n",
    "writeToTable(\"NBACOVID\", \"!1Iloveoracle\", \"db202203241240_high\", \"Predictions\", values)\n",
    "\n",
    "elapsed = timeit.default_timer() - start_time\n",
    "print(elapsed, \"Seconds\")"
   ]
  },
  {
   "cell_type": "markdown",
   "metadata": {},
   "source": [
    "Method 1 for XGBoost:"
   ]
  },
  {
   "cell_type": "code",
   "execution_count": 72,
   "metadata": {},
   "outputs": [
    {
     "name": "stdout",
     "output_type": "stream",
     "text": [
      "Read: 2.5139523960006045 Seconds\n",
      "Accuracy: 87.52%\n",
      "Inference: 1.3611832810001943 Seconds\n",
      "Write: 95.11403420299939 Seconds\n",
      "Total: 98.98941843800094 Seconds\n"
     ]
    }
   ],
   "source": [
    "#Code to time First XGBoost model\n",
    "import timeit\n",
    "start_time = timeit.default_timer()\n",
    "\n",
    "# load data\n",
    "df = readTable(\"NBACOVID\", \"!1Iloveoracle\", \"db202203241240_high\", \"PYTABCHHUN\")\n",
    "\n",
    "elapsed_read = timeit.default_timer() - start_time\n",
    "print(\"Read:\", elapsed_read, \"Seconds\")\n",
    "\n",
    "import xgboost\n",
    "from numpy import loadtxt\n",
    "from xgboost import XGBClassifier\n",
    "from sklearn.model_selection import train_test_split\n",
    "from sklearn.metrics import accuracy_score\n",
    "\n",
    "\n",
    "# split data into X and y\n",
    "X = df.iloc[:,1:]\n",
    "Y = df['Outcome']\n",
    "# split data into train and test sets\n",
    "seed = 7\n",
    "test_size = 0.33\n",
    "X_train, X_test, y_train, y_test = train_test_split(X, Y, test_size=test_size, random_state=seed)\n",
    "# fit model no training data\n",
    "model = XGBClassifier()\n",
    "model.fit(X_train, y_train)\n",
    "# make predictions for test data\n",
    "y_pred = model.predict(X_test)\n",
    "predictions = [round(value) for value in y_pred]\n",
    "# evaluate predictions\n",
    "accuracy = accuracy_score(y_test, predictions)\n",
    "print(\"Accuracy: %.2f%%\" % (accuracy * 100.0))\n",
    "\n",
    "elapsed = timeit.default_timer() - start_time - elapsed_read\n",
    "print(\"Inference:\", elapsed, \"Seconds\")\n",
    "\n",
    "for predic in predictions[:100]:\n",
    "    values = {'Predictive_Outcome':int(predic)}\n",
    "    writeToTable(\"NBACOVID\", \"!1Iloveoracle\", \"db202203241240_high\", \"Predictions\", values)\n",
    "    \n",
    "elapsed = timeit.default_timer() - start_time - elapsed - elapsed_read\n",
    "print(\"Write:\", elapsed, \"Seconds\")\n",
    "    \n",
    "elapsed = timeit.default_timer() - start_time\n",
    "print(\"Total:\",elapsed, \"Seconds\")"
   ]
  },
  {
   "cell_type": "code",
   "execution_count": 73,
   "metadata": {},
   "outputs": [
    {
     "name": "stdout",
     "output_type": "stream",
     "text": [
      "Model: Logistic Regression\n",
      "Read: 4.2152628429994365 Seconds\n",
      "0.8751793400286944\n",
      "Inference: 5.654190036000728 Seconds\n",
      "Write: 135.59037580199947 Seconds\n",
      "Total: 145.46005009999863 Seconds\n"
     ]
    }
   ],
   "source": [
    "#Code to time logistic Regression model\n",
    "import timeit\n",
    "print(\"Model: Logistic Regression\")\n",
    "start_time = timeit.default_timer()\n",
    "\n",
    "# load data\n",
    "df = readTable(\"NBACOVID\", \"!1Iloveoracle\", \"db202203241240_high\", \"PYTABCHHUN\")\n",
    "\n",
    "elapsed_read = timeit.default_timer() - start_time\n",
    "print(\"Read:\", elapsed_read, \"Seconds\")\n",
    "\n",
    "from sklearn.datasets import load_iris\n",
    "from sklearn.linear_model import LogisticRegression\n",
    "from sklearn.model_selection import train_test_split\n",
    "import matplotlib.pyplot as plt\n",
    "\n",
    "\n",
    "# split data into X and y\n",
    "X = df.iloc[:,1:]\n",
    "Y = df['Outcome']\n",
    "# split data into train and test sets\n",
    "seed = 7\n",
    "test_size = 0.33\n",
    "X_train, X_test, y_train, y_test = train_test_split(X, Y, test_size=test_size, random_state=seed)\n",
    "# fit model \n",
    "model.fit(X_train, y_train)\n",
    "y_pred = model.predict(X_test)\n",
    "\n",
    "score = model.score(X_test, y_test)\n",
    "print(score)\n",
    "\n",
    "elapsed = timeit.default_timer() - start_time - elapsed_read\n",
    "print(\"Inference:\", elapsed, \"Seconds\")\n",
    "\n",
    "for predic in y_pred[:100]:\n",
    "    values = {'Predictive_Outcome':int(predic)}\n",
    "    writeToTable(\"NBACOVID\", \"!1Iloveoracle\", \"db202203241240_high\", \"Predictions\", values)\n",
    "    \n",
    "elapsed = timeit.default_timer() - start_time - elapsed - elapsed_read\n",
    "print(\"Write:\", elapsed, \"Seconds\")\n",
    "    \n",
    "elapsed = timeit.default_timer() - start_time\n",
    "print(\"Total:\",elapsed, \"Seconds\")"
   ]
  },
  {
   "cell_type": "code",
   "execution_count": 75,
   "metadata": {},
   "outputs": [
    {
     "name": "stdout",
     "output_type": "stream",
     "text": [
      "Model: Random Forrest Classification\n",
      "Read: 2.0875794740004494 Seconds\n",
      "Inference: 0.7582120250008302 Seconds\n",
      "Write: 113.74644476899994 Seconds\n",
      "Total: 116.59257590200104 Seconds\n"
     ]
    }
   ],
   "source": [
    "#Code to time Random Forrest Classification model\n",
    "import timeit\n",
    "print(\"Model: Random Forrest Classification\")\n",
    "start_time = timeit.default_timer()\n",
    "\n",
    "# load data\n",
    "df = readTable(\"NBACOVID\", \"!1Iloveoracle\", \"db202203241240_high\", \"PYTABCHHUN\")\n",
    "\n",
    "elapsed_read = timeit.default_timer() - start_time\n",
    "print(\"Read:\", elapsed_read, \"Seconds\")\n",
    "\n",
    "from sklearn.ensemble import RandomForestClassifier\n",
    "from sklearn.datasets import load_iris\n",
    "import pandas as pd\n",
    "from sklearn.model_selection import train_test_split\n",
    "\n",
    "\n",
    "# split data into X and y\n",
    "X = df.iloc[:,1:]\n",
    "Y = df['Outcome']\n",
    "# split data into train and test sets\n",
    "seed = 7\n",
    "test_size = 0.33\n",
    "X_train, X_test, y_train, y_test = train_test_split(X, Y, test_size=test_size, random_state=seed)\n",
    "# fit model \n",
    "model = RandomForestClassifier()\n",
    "\n",
    "model.fit(X_train, y_train)\n",
    "y_pred = model.predict(X_test)\n",
    "\n",
    "\n",
    "elapsed = timeit.default_timer() - start_time - elapsed_read\n",
    "print(\"Inference:\", elapsed, \"Seconds\")\n",
    "\n",
    "for predic in y_pred[:100]:\n",
    "    values = {'Predictive_Outcome':int(predic)}\n",
    "    writeToTable(\"NBACOVID\", \"!1Iloveoracle\", \"db202203241240_high\", \"Predictions\", values)\n",
    "    \n",
    "elapsed = timeit.default_timer() - start_time - elapsed - elapsed_read\n",
    "print(\"Write:\", elapsed, \"Seconds\")\n",
    "    \n",
    "elapsed = timeit.default_timer() - start_time\n",
    "print(\"Total:\",elapsed, \"Seconds\")"
   ]
  }
 ],
 "metadata": {
  "kernelspec": {
   "display_name": "Python 3",
   "language": "python",
   "name": "python3"
  },
  "language_info": {
   "codemirror_mode": {
    "name": "ipython",
    "version": 3
   },
   "file_extension": ".py",
   "mimetype": "text/x-python",
   "name": "python",
   "nbconvert_exporter": "python",
   "pygments_lexer": "ipython3",
   "version": "3.8.3"
  }
 },
 "nbformat": 4,
 "nbformat_minor": 4
}
