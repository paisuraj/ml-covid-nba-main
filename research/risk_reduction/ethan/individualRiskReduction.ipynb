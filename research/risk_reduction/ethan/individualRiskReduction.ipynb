{
 "cells": [
  {
   "cell_type": "code",
   "execution_count": 11,
   "id": "46e66fb6",
   "metadata": {},
   "outputs": [],
   "source": [
    "#Write to table method\n",
    "import pandas as pd\n",
    "import cx_Oracle\n",
    "import sqlalchemy\n",
    "\n",
    "# valDict is a dictionary of table column name mapped to value.\n",
    "def writeToTable(user, password, dsn, table, valDict):\n",
    "    \n",
    "    #establish connection\n",
    "    cx_Oracle.init_oracle_client(lib_dir=r\"C:\\oracle\\instantclient_21_3\")\n",
    "\n",
    "    connection = cx_Oracle.connect(user=user, password=password, dsn=dsn)\n",
    "\n",
    "    cursor = connection.cursor()\n",
    "    defaultDict = {'TEAM_NAME':None , 'GAMEDATE':None , 'STAT1':None , 'STAT2':None , 'STAT3':None , 'STAT4':None, 'STAT5':None}\n",
    "    \n",
    "    values = []\n",
    "    for column in defaultDict:\n",
    "        if column in valDict:\n",
    "            values.append(valDict[column])\n",
    "        else:\n",
    "            values.append(defaultDict[column])\n",
    "            \n",
    "    cursor.execute(\"insert into \"+table+\"(TEAM_NAME, GAMEDATE, STAT1, STAT2, STAT3, STAT4, STAT5) values (:1,:2,:3,:4,:5,:6,:7)\", values)\n",
    "\n",
    "    connection.commit()\n",
    "\n",
    "#example\n",
    "#values = {'TEAM_NAME':'team5' , 'GAMEDATE':'4/7/2022' , 'STAT1':'great!' , 'STAT2':'bad' , 'STAT3':'good' , 'STAT4':'bad', 'STAT5':'good'}\n",
    "values = {'TEAM_NAME':'team5' , 'GAMEDATE':'4/7/2022' , 'STAT1':'great!' , 'STAT2':'Terrible!'}\n",
    "writeToTable(\"admin\", \"!1Iloveoracle\", \"db202203241240_high\", \"team_sample\", values)\n"
   ]
  },
  {
   "cell_type": "code",
   "execution_count": 1,
   "id": "fd313f9c",
   "metadata": {
    "scrolled": true
   },
   "outputs": [],
   "source": [
    "#Read Table Method\n",
    "import pandas as pd\n",
    "import cx_Oracle\n",
    "import sqlalchemy\n",
    "\n",
    "def readTable(user, password, dsn, table):\n",
    "    \n",
    "    #establish connection\n",
    "    cx_Oracle.init_oracle_client(lib_dir=r\"C:\\oracle\\instantclient_21_3\")\n",
    "\n",
    "    connection = cx_Oracle.connect(user=user, password=password, dsn=dsn)\n",
    "\n",
    "    cursor = connection.cursor()\n",
    "\n",
    "    # return table as Data Frame\n",
    "\n",
    "    query = \"\"\"select * \n",
    "            from \"\"\" + table;\n",
    "    df = pd.read_sql(query, con=connection)\n",
    "\n",
    "    #print(df)\n",
    "    return df\n",
    "   \n",
    "#example\n",
    "#df = readTable(\"admin\", \"!1Iloveoracle\", \"db202203241240_high\", \"team_sample\")\n",
    "#print(df)"
   ]
  },
  {
   "cell_type": "code",
   "execution_count": 1,
   "id": "b0485747",
   "metadata": {},
   "outputs": [],
   "source": [
    "#Read Team Method\n",
    "import pandas as pd\n",
    "import cx_Oracle\n",
    "import sqlalchemy\n",
    "\n",
    "def readTeam(user, password, dsn, table, teamName, date):\n",
    "    \n",
    "    teamName = \"'\" + teamName + \"'\"\n",
    "    date = \"'\" + date + \"'\"\n",
    "    \n",
    "    #establish connection\n",
    "    cx_Oracle.init_oracle_client(lib_dir=r\"C:\\oracle\\instantclient_21_3\")\n",
    "    \n",
    "    connection = cx_Oracle.connect(user=user, password=password, dsn=dsn)\n",
    "\n",
    "    cursor = connection.cursor()\n",
    "    \n",
    "    \n",
    "    # return table as Data Frame\n",
    "    query = \"\"\"select *\n",
    "            from {}\n",
    "            where TEAM_NAME = {}\n",
    "            and \n",
    "            GAMEDATE = {}\n",
    "            \"\"\"\n",
    "\n",
    "    df = pd.read_sql(query.format(table, teamName, date), con=connection)\n",
    "\n",
    "    return df\n",
    "\n",
    "#example\n",
    "#df = readTeam(\"admin\", \"!1Iloveoracle\", \"db202203241240_high\", \"team_sample\", \"team1\", \"4/7/2022\")\n",
    "#print(df)"
   ]
  },
  {
   "cell_type": "code",
   "execution_count": 1,
   "id": "dff69883",
   "metadata": {
    "scrolled": true
   },
   "outputs": [],
   "source": [
    "#Read Player Method\n",
    "import pandas as pd\n",
    "import cx_Oracle\n",
    "import sqlalchemy\n",
    "\n",
    "\n",
    "def readPlayer(user, password, dsn, table, playerName):\n",
    "    \n",
    "    playerName = \"'\" + playerName + \"'\"\n",
    "    \n",
    "    #establish connection\n",
    "    cx_Oracle.init_oracle_client(lib_dir=r\"C:\\oracle\\instantclient_21_3\")\n",
    "    \n",
    "    connection = cx_Oracle.connect(user=user, password=password, dsn=dsn)\n",
    "\n",
    "    cursor = connection.cursor()\n",
    "    \n",
    "    # return table as Data Frame\n",
    "    query = \"\"\"select *\n",
    "            from {}\n",
    "            where PLAYER_NAME = {}\n",
    "            \"\"\"\n",
    "\n",
    "    df = pd.read_sql(query.format(table, playerName), con=connection)\n",
    "\n",
    "    return df\n",
    "\n",
    "#example  \n",
    "#df = readPlayer(\"admin\", \"!1Iloveoracle\", \"db202203241240_high\", \"player_sample\", \"Bob\")\n",
    "#print(df)"
   ]
  },
  {
   "cell_type": "code",
   "execution_count": 2,
   "id": "47444769",
   "metadata": {},
   "outputs": [
    {
     "name": "stderr",
     "output_type": "stream",
     "text": [
      "C:\\Users\\ethan\\anaconda3\\lib\\site-packages\\pandas\\io\\sql.py:761: UserWarning: pandas only support SQLAlchemy connectable(engine/connection) ordatabase string URI or sqlite3 DBAPI2 connectionother DBAPI2 objects are not tested, please consider using SQLAlchemy\n",
      "  warnings.warn(\n"
     ]
    }
   ],
   "source": [
    "# Unit Tests\n",
    "import inspect\n",
    "import pytest_check as check\n",
    "\n",
    "def readTableTests():\n",
    "    df = readTable(\"admin\", \"!1Iloveoracle\", \"db202203241240_high\", \"team_sample\")\n",
    "    assert len(df) == 11\n",
    "    assert len(df.columns) == 7\n",
    "    \n",
    "def readPlayerTests():\n",
    "    df = readPlayer(\"admin\", \"!1Iloveoracle\", \"db202203241240_high\", \"player_sample\", \"Bob\")\n",
    "    assert len(df) == 2\n",
    "    assert len(df.columns) == 5\n",
    "    assert df['PLAYER_NAME'][0] == \"Bob\"\n",
    "    assert df['PLAYER_NAME'][1] == \"Bob\"\n",
    "    \n",
    "def readTeamTests():\n",
    "    df = readTeam(\"admin\", \"!1Iloveoracle\", \"db202203241240_high\", \"team_sample\", \"team1\", \"4/7/2022\")\n",
    "    assert len(df) == 1\n",
    "    assert len(df.columns) == 7\n",
    "    assert df['TEAM_NAME'][0] == 'team1'\n",
    "    assert df['GAMEDATE'][0] == '4/7/2022'\n",
    "   \n",
    "    \n",
    "#readTableTests()\n",
    "#readPlayerTests()\n",
    "readTeamTests()"
   ]
  },
  {
   "cell_type": "code",
   "execution_count": 5,
   "id": "451159d3",
   "metadata": {},
   "outputs": [
    {
     "name": "stdout",
     "output_type": "stream",
     "text": [
      "[5, 5, 5]\n"
     ]
    }
   ],
   "source": [
    "#Test Area\n",
    "l = [5 if 5<7 else 3, 6 if 7<5 else 5]\n",
    "l.append(5 if 1==1 else 4)\n",
    "print(l)"
   ]
  }
 ],
 "metadata": {
  "kernelspec": {
   "display_name": "Python 3 (ipykernel)",
   "language": "python",
   "name": "python3"
  },
  "language_info": {
   "codemirror_mode": {
    "name": "ipython",
    "version": 3
   },
   "file_extension": ".py",
   "mimetype": "text/x-python",
   "name": "python",
   "nbconvert_exporter": "python",
   "pygments_lexer": "ipython3",
   "version": "3.8.12"
  }
 },
 "nbformat": 4,
 "nbformat_minor": 5
}
